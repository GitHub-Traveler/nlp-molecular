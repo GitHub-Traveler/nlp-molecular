{
 "cells": [
  {
   "cell_type": "code",
   "execution_count": 8,
   "metadata": {},
   "outputs": [],
   "source": [
    "import pandas as pd\n",
    "from datasets import load_dataset, Dataset\n",
    "from transformers import RobertaTokenizerFast, RobertaForSequenceClassification, Trainer, TrainingArguments\n",
    "from sklearn.metrics import accuracy_score, precision_recall_fscore_support, roc_auc_score, confusion_matrix, roc_curve, RocCurveDisplay\n",
    "from sklearn.model_selection import train_test_split\n",
    "import matplotlib.pyplot as plt\n",
    "import torch"
   ]
  },
  {
   "cell_type": "markdown",
   "metadata": {},
   "source": [
    "- Download and save model to ./local_model, only run this one time"
   ]
  },
  {
   "cell_type": "code",
   "execution_count": null,
   "metadata": {},
   "outputs": [],
   "source": [
    "from transformers import RobertaForSequenceClassification\n",
    "\n",
    "model = RobertaForSequenceClassification.from_pretrained(\"seyonec/PubChem10M_SMILES_BPE_450k\", num_labels=2)\n",
    "model.save_pretrained(\"./local_model\")"
   ]
  },
  {
   "cell_type": "code",
   "execution_count": 2,
   "metadata": {},
   "outputs": [
    {
     "name": "stderr",
     "output_type": "stream",
     "text": [
      "Using the latest cached version of the dataset since katielink/moleculenet-benchmark couldn't be found on the Hugging Face Hub\n",
      "Found the latest cached dataset configuration 'hiv' at /home/kyv/.cache/huggingface/datasets/katielink___moleculenet-benchmark/hiv/0.0.0/23379ea3a1886c036f2c75de62433f3d655608ec (last modified on Sun Jun  9 20:44:56 2024).\n",
      "Generating train split: 26320 examples [00:00, 556562.04 examples/s]\n",
      "Generating test split: 6580 examples [00:00, 497458.86 examples/s]\n",
      "Map: 100%|██████████| 26320/26320 [00:03<00:00, 8636.05 examples/s]\n",
      "Map: 100%|██████████| 6580/6580 [00:00<00:00, 7763.24 examples/s]\n",
      "Map: 100%|██████████| 26320/26320 [00:01<00:00, 21585.89 examples/s]\n",
      "Map: 100%|██████████| 6580/6580 [00:00<00:00, 22215.68 examples/s]\n"
     ]
    }
   ],
   "source": [
    "# Data preparation\n",
    "dataset = load_dataset(\"katielink/moleculenet-benchmark\", \"hiv\")\n",
    "df = pd.DataFrame(dataset['train'])\n",
    "tokenizer = RobertaTokenizerFast.from_pretrained(\"seyonec/PubChem10M_SMILES_BPE_450k\")\n",
    "\n",
    "def tokenize_function(examples):\n",
    "    return tokenizer(examples['smiles'], padding='max_length', truncation=True, max_length=512)\n",
    "\n",
    "tokenized_dataset = dataset.map(tokenize_function, batched=True)\n",
    "\n",
    "# Split the dataset\n",
    "train_df, test_df = train_test_split(df, test_size=0.2, random_state=42)\n",
    "\n",
    "# # Save dataset to use load_dataset, use one time only\n",
    "train_df.to_csv(\"train.csv\", index=False)\n",
    "test_df.to_csv(\"test.csv\", index=False)\n",
    "train_dataset = load_dataset('csv', data_files={'train': 'train.csv'}, split='train')\n",
    "test_dataset = load_dataset('csv', data_files={'test': 'test.csv'}, split='test')\n",
    "\n",
    "# Tokenize data and map label\n",
    "train_dataset = train_dataset.map(tokenize_function, batched=True)\n",
    "test_dataset = test_dataset.map(tokenize_function, batched=True)\n",
    "train_dataset = train_dataset.map(lambda e: {'labels': e['HIV_active']}, remove_columns=['HIV_active'])\n",
    "test_dataset = test_dataset.map(lambda e: {'labels': e['HIV_active']}, remove_columns=['HIV_active'])\n",
    "\n"
   ]
  },
  {
   "cell_type": "code",
   "execution_count": 3,
   "metadata": {},
   "outputs": [
    {
     "name": "stderr",
     "output_type": "stream",
     "text": [
      "/home/kyv/anaconda3/envs/env_capstone/lib/python3.12/site-packages/transformers/training_args.py:1474: FutureWarning: `evaluation_strategy` is deprecated and will be removed in version 4.46 of 🤗 Transformers. Use `eval_strategy` instead\n",
      "  warnings.warn(\n"
     ]
    },
    {
     "data": {
      "text/html": [
       "\n",
       "    <div>\n",
       "      \n",
       "      <progress value='8225' max='8225' style='width:300px; height:20px; vertical-align: middle;'></progress>\n",
       "      [8225/8225 1:09:34, Epoch 5/5]\n",
       "    </div>\n",
       "    <table border=\"1\" class=\"dataframe\">\n",
       "  <thead>\n",
       " <tr style=\"text-align: left;\">\n",
       "      <th>Epoch</th>\n",
       "      <th>Training Loss</th>\n",
       "      <th>Validation Loss</th>\n",
       "      <th>Accuracy</th>\n",
       "      <th>F1</th>\n",
       "      <th>Precision</th>\n",
       "      <th>Recall</th>\n",
       "      <th>Roc Auc</th>\n",
       "    </tr>\n",
       "  </thead>\n",
       "  <tbody>\n",
       "    <tr>\n",
       "      <td>1</td>\n",
       "      <td>0.119100</td>\n",
       "      <td>0.124038</td>\n",
       "      <td>0.969605</td>\n",
       "      <td>0.382716</td>\n",
       "      <td>0.596154</td>\n",
       "      <td>0.281818</td>\n",
       "      <td>0.792908</td>\n",
       "    </tr>\n",
       "    <tr>\n",
       "      <td>2</td>\n",
       "      <td>0.108700</td>\n",
       "      <td>0.126450</td>\n",
       "      <td>0.970517</td>\n",
       "      <td>0.366013</td>\n",
       "      <td>0.651163</td>\n",
       "      <td>0.254545</td>\n",
       "      <td>0.788680</td>\n",
       "    </tr>\n",
       "    <tr>\n",
       "      <td>3</td>\n",
       "      <td>0.089200</td>\n",
       "      <td>0.133710</td>\n",
       "      <td>0.970213</td>\n",
       "      <td>0.446328</td>\n",
       "      <td>0.589552</td>\n",
       "      <td>0.359091</td>\n",
       "      <td>0.797749</td>\n",
       "    </tr>\n",
       "    <tr>\n",
       "      <td>4</td>\n",
       "      <td>0.058800</td>\n",
       "      <td>0.157481</td>\n",
       "      <td>0.970365</td>\n",
       "      <td>0.462810</td>\n",
       "      <td>0.587413</td>\n",
       "      <td>0.381818</td>\n",
       "      <td>0.799743</td>\n",
       "    </tr>\n",
       "    <tr>\n",
       "      <td>5</td>\n",
       "      <td>0.045500</td>\n",
       "      <td>0.176903</td>\n",
       "      <td>0.969301</td>\n",
       "      <td>0.459893</td>\n",
       "      <td>0.558442</td>\n",
       "      <td>0.390909</td>\n",
       "      <td>0.804140</td>\n",
       "    </tr>\n",
       "  </tbody>\n",
       "</table><p>"
      ],
      "text/plain": [
       "<IPython.core.display.HTML object>"
      ]
     },
     "metadata": {},
     "output_type": "display_data"
    },
    {
     "data": {
      "text/plain": [
       "TrainOutput(global_step=8225, training_loss=0.08582842980474686, metrics={'train_runtime': 4175.9026, 'train_samples_per_second': 31.514, 'train_steps_per_second': 1.97, 'total_flos': 1.74327096631296e+16, 'train_loss': 0.08582842980474686, 'epoch': 5.0})"
      ]
     },
     "execution_count": 3,
     "metadata": {},
     "output_type": "execute_result"
    }
   ],
   "source": [
    "# Training params\n",
    "model = RobertaForSequenceClassification.from_pretrained(\"./local_model\", num_labels=2)\n",
    "training_args = TrainingArguments(\n",
    "    output_dir=\"./results\",\n",
    "    evaluation_strategy=\"epoch\",\n",
    "    learning_rate=2e-5,\n",
    "    per_device_train_batch_size=16,\n",
    "    per_device_eval_batch_size=16,\n",
    "    num_train_epochs=5,\n",
    "    weight_decay=0.01,\n",
    ")\n",
    "\n",
    "# AUC and Confusion matrix\n",
    "def compute_metrics(p):\n",
    "    preds = p.predictions.argmax(-1)\n",
    "    precision, recall, f1, _ = precision_recall_fscore_support(p.label_ids, preds, average='binary')\n",
    "    acc = accuracy_score(p.label_ids, preds)\n",
    "    auc = roc_auc_score(p.label_ids, p.predictions[:, 1])\n",
    "    return {\n",
    "        'accuracy': acc,\n",
    "        'f1': f1,\n",
    "        'precision': precision,\n",
    "        'recall': recall,\n",
    "        'roc_auc': auc\n",
    "    }\n",
    "\n",
    "trainer = Trainer(\n",
    "    model=model,\n",
    "    args=training_args,\n",
    "    train_dataset=train_dataset,\n",
    "    eval_dataset=test_dataset,\n",
    "    compute_metrics=compute_metrics\n",
    ")\n",
    "trainer.train()"
   ]
  },
  {
   "cell_type": "code",
   "execution_count": 4,
   "metadata": {},
   "outputs": [],
   "source": [
    "# Save model\n",
    "model.save_pretrained(\"./chemberta_hiv\")"
   ]
  },
  {
   "cell_type": "code",
   "execution_count": 5,
   "metadata": {},
   "outputs": [
    {
     "data": {
      "text/html": [],
      "text/plain": [
       "<IPython.core.display.HTML object>"
      ]
     },
     "metadata": {},
     "output_type": "display_data"
    },
    {
     "name": "stdout",
     "output_type": "stream",
     "text": [
      "{'eval_loss': 0.17690296471118927, 'eval_accuracy': 0.9693009118541034, 'eval_f1': 0.45989304812834225, 'eval_precision': 0.5584415584415584, 'eval_recall': 0.39090909090909093, 'eval_roc_auc': 0.8041402229845624, 'eval_runtime': 64.417, 'eval_samples_per_second': 102.147, 'eval_steps_per_second': 6.396, 'epoch': 5.0}\n"
     ]
    }
   ],
   "source": [
    "# Evaluate\n",
    "evaluation_results = trainer.evaluate()\n",
    "print(evaluation_results)"
   ]
  },
  {
   "cell_type": "code",
   "execution_count": 6,
   "metadata": {},
   "outputs": [
    {
     "name": "stdout",
     "output_type": "stream",
     "text": [
      "Confusion Matrix:\n",
      "[[6292   68]\n",
      " [ 134   86]]\n"
     ]
    }
   ],
   "source": [
    "# Confusion Matrix\n",
    "preds = trainer.predict(test_dataset).predictions.argmax(-1)\n",
    "cm = confusion_matrix(test_dataset['labels'], preds)\n",
    "print(\"Confusion Matrix:\")\n",
    "print(cm)"
   ]
  },
  {
   "cell_type": "code",
   "execution_count": 9,
   "metadata": {},
   "outputs": [
    {
     "data": {
      "text/html": [],
      "text/plain": [
       "<IPython.core.display.HTML object>"
      ]
     },
     "metadata": {},
     "output_type": "display_data"
    },
    {
     "data": {
      "image/png": "[encoded data removed]",
      "text/plain": [
       "<Figure size 640x480 with 1 Axes>"
      ]
     },
     "metadata": {},
     "output_type": "display_data"
    }
   ],
   "source": [
    "pred_scores = trainer.predict(test_dataset).predictions[:, 1]\n",
    "RocCurveDisplay.from_predictions(test_dataset['labels'], pred_scores, plot_chance_level=True)\n",
    "plt.show()"
   ]
  }
 ],
 "metadata": {
  "kernelspec": {
   "display_name": "env_capstone",
   "language": "python",
   "name": "python3"
  },
  "language_info": {
   "codemirror_mode": {
    "name": "ipython",
    "version": 3
   },
   "file_extension": ".py",
   "mimetype": "text/x-python",
   "name": "python",
   "nbconvert_exporter": "python",
   "pygments_lexer": "ipython3",
   "version": "3.12.3"
  }
 },
 "nbformat": 4,
 "nbformat_minor": 2
}
